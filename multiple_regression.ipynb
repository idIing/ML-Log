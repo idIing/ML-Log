{
  "nbformat": 4,
  "nbformat_minor": 0,
  "metadata": {
    "colab": {
      "provenance": [],
      "authorship_tag": "ABX9TyNfhTKAF8wTjZmcarbMF48c"
    },
    "kernelspec": {
      "name": "python3",
      "display_name": "Python 3"
    },
    "language_info": {
      "name": "python"
    }
  },
  "cells": [
    {
      "cell_type": "markdown",
      "source": [
        "# Implementing Multiple Regression 📈\n",
        "---\n",
        "Once again following the coursera course, althought now on youtube. I like to write in code myself for understanding."
      ],
      "metadata": {
        "id": "sHJSd6oefzja"
      }
    },
    {
      "cell_type": "code",
      "source": [
        "! pip install matplotlib kagglehub pandas numpy scikit-learn"
      ],
      "metadata": {
        "colab": {
          "base_uri": "https://localhost:8080/"
        },
        "id": "KCWFya92fr1P",
        "outputId": "c468613c-8e03-47be-8613-f95703377f8f"
      },
      "execution_count": 39,
      "outputs": [
        {
          "output_type": "stream",
          "name": "stdout",
          "text": [
            "Requirement already satisfied: matplotlib in /usr/local/lib/python3.12/dist-packages (3.10.0)\n",
            "Requirement already satisfied: kagglehub in /usr/local/lib/python3.12/dist-packages (0.3.13)\n",
            "Requirement already satisfied: pandas in /usr/local/lib/python3.12/dist-packages (2.2.2)\n",
            "Requirement already satisfied: numpy in /usr/local/lib/python3.12/dist-packages (2.0.2)\n",
            "Requirement already satisfied: scikit-learn in /usr/local/lib/python3.12/dist-packages (1.6.1)\n",
            "Requirement already satisfied: contourpy>=1.0.1 in /usr/local/lib/python3.12/dist-packages (from matplotlib) (1.3.3)\n",
            "Requirement already satisfied: cycler>=0.10 in /usr/local/lib/python3.12/dist-packages (from matplotlib) (0.12.1)\n",
            "Requirement already satisfied: fonttools>=4.22.0 in /usr/local/lib/python3.12/dist-packages (from matplotlib) (4.60.1)\n",
            "Requirement already satisfied: kiwisolver>=1.3.1 in /usr/local/lib/python3.12/dist-packages (from matplotlib) (1.4.9)\n",
            "Requirement already satisfied: packaging>=20.0 in /usr/local/lib/python3.12/dist-packages (from matplotlib) (25.0)\n",
            "Requirement already satisfied: pillow>=8 in /usr/local/lib/python3.12/dist-packages (from matplotlib) (11.3.0)\n",
            "Requirement already satisfied: pyparsing>=2.3.1 in /usr/local/lib/python3.12/dist-packages (from matplotlib) (3.2.5)\n",
            "Requirement already satisfied: python-dateutil>=2.7 in /usr/local/lib/python3.12/dist-packages (from matplotlib) (2.9.0.post0)\n",
            "Requirement already satisfied: pyyaml in /usr/local/lib/python3.12/dist-packages (from kagglehub) (6.0.3)\n",
            "Requirement already satisfied: requests in /usr/local/lib/python3.12/dist-packages (from kagglehub) (2.32.4)\n",
            "Requirement already satisfied: tqdm in /usr/local/lib/python3.12/dist-packages (from kagglehub) (4.67.1)\n",
            "Requirement already satisfied: pytz>=2020.1 in /usr/local/lib/python3.12/dist-packages (from pandas) (2025.2)\n",
            "Requirement already satisfied: tzdata>=2022.7 in /usr/local/lib/python3.12/dist-packages (from pandas) (2025.2)\n",
            "Requirement already satisfied: scipy>=1.6.0 in /usr/local/lib/python3.12/dist-packages (from scikit-learn) (1.16.2)\n",
            "Requirement already satisfied: joblib>=1.2.0 in /usr/local/lib/python3.12/dist-packages (from scikit-learn) (1.5.2)\n",
            "Requirement already satisfied: threadpoolctl>=3.1.0 in /usr/local/lib/python3.12/dist-packages (from scikit-learn) (3.6.0)\n",
            "Requirement already satisfied: six>=1.5 in /usr/local/lib/python3.12/dist-packages (from python-dateutil>=2.7->matplotlib) (1.17.0)\n",
            "Requirement already satisfied: charset_normalizer<4,>=2 in /usr/local/lib/python3.12/dist-packages (from requests->kagglehub) (3.4.4)\n",
            "Requirement already satisfied: idna<4,>=2.5 in /usr/local/lib/python3.12/dist-packages (from requests->kagglehub) (3.11)\n",
            "Requirement already satisfied: urllib3<3,>=1.21.1 in /usr/local/lib/python3.12/dist-packages (from requests->kagglehub) (2.5.0)\n",
            "Requirement already satisfied: certifi>=2017.4.17 in /usr/local/lib/python3.12/dist-packages (from requests->kagglehub) (2025.10.5)\n"
          ]
        }
      ]
    },
    {
      "cell_type": "code",
      "source": [
        "import pandas as pd\n",
        "import matplotlib.pyplot as plt\n",
        "import numpy as np\n",
        "from sklearn.model_selection import train_test_split\n",
        "import kagglehub"
      ],
      "metadata": {
        "id": "jAUCGS7thU0u"
      },
      "execution_count": 40,
      "outputs": []
    },
    {
      "cell_type": "code",
      "execution_count": 41,
      "metadata": {
        "colab": {
          "base_uri": "https://localhost:8080/"
        },
        "id": "okhQ2a7-fLyW",
        "outputId": "d72c1362-115d-4f6d-88db-a833a48b9b27"
      },
      "outputs": [
        {
          "output_type": "stream",
          "name": "stdout",
          "text": [
            "Using Colab cache for faster access to the 'student-performance-multiple-linear-regression' dataset.\n",
            "Path to dataset files: /kaggle/input/student-performance-multiple-linear-regression\n"
          ]
        }
      ],
      "source": [
        "# Download latest version\n",
        "path = kagglehub.dataset_download(\"nikhil7280/student-performance-multiple-linear-regression\")\n",
        "\n",
        "print(\"Path to dataset files:\", path)\n",
        "\n",
        "dataset_path = path + '/Student_Performance.csv'"
      ]
    },
    {
      "cell_type": "markdown",
      "source": [
        "## The dataset\n",
        "\n",
        "---\n",
        "\n",
        "This synthetic dataset I found on [kaggle](https://www.kaggle.com/datasets/nikhil7280/student-performance-multiple-linear-regression) will work nicely. Below is the rundown from the page on Kaggle:\n",
        "\n",
        "---\n",
        "\n",
        "The Student Performance Dataset is a dataset designed to examine the factors influencing academic student performance. The dataset consists of 10,000 student records, with each record containing information about various predictors and a performance index.\n",
        "Variables:\n",
        "    \n",
        "> Hours Studied: The total number of hours spent studying by each student.\n",
        "\n",
        "> Previous Scores: The scores obtained by students in previous tests.\n",
        "\n",
        "> Extracurricular Activities: Whether the student participates in extracurricular activities (Yes or No).\n",
        "\n",
        "> Sleep Hours: The average number of hours of sleep the student had per day.\n",
        "    \n",
        "> Sample Question Papers Practiced: The number of sample question papers the student practiced.\n",
        "\n",
        "Target Variable:\n",
        "\n",
        "> Performance Index: A measure of the overall performance of each student. The performance index represents the student's academic performance and has been rounded to the nearest integer. The index ranges from 10 to 100, with higher values indicating better performance.\n"
      ],
      "metadata": {
        "id": "7G2xeR7fgL1N"
      }
    },
    {
      "cell_type": "code",
      "source": [
        "df = pd.read_csv(dataset_path)\n",
        "\n",
        "print(df.head())\n",
        "df.shape"
      ],
      "metadata": {
        "colab": {
          "base_uri": "https://localhost:8080/"
        },
        "id": "WUo3r9ysgK4_",
        "outputId": "a003b97a-612f-4011-fd39-91a8d1658b74"
      },
      "execution_count": 42,
      "outputs": [
        {
          "output_type": "stream",
          "name": "stdout",
          "text": [
            "   Hours Studied  Previous Scores Extracurricular Activities  Sleep Hours  \\\n",
            "0              7               99                        Yes            9   \n",
            "1              4               82                         No            4   \n",
            "2              8               51                        Yes            7   \n",
            "3              5               52                        Yes            5   \n",
            "4              7               75                         No            8   \n",
            "\n",
            "   Sample Question Papers Practiced  Performance Index  \n",
            "0                                 1               91.0  \n",
            "1                                 2               65.0  \n",
            "2                                 2               45.0  \n",
            "3                                 2               36.0  \n",
            "4                                 5               66.0  \n"
          ]
        },
        {
          "output_type": "execute_result",
          "data": {
            "text/plain": [
              "(10000, 6)"
            ]
          },
          "metadata": {},
          "execution_count": 42
        }
      ]
    },
    {
      "cell_type": "code",
      "source": [
        "print(df.info())"
      ],
      "metadata": {
        "colab": {
          "base_uri": "https://localhost:8080/"
        },
        "id": "smkQu5W3sEt6",
        "outputId": "a7af209d-89a0-47b8-e73c-7f5f894fa8db"
      },
      "execution_count": 43,
      "outputs": [
        {
          "output_type": "stream",
          "name": "stdout",
          "text": [
            "<class 'pandas.core.frame.DataFrame'>\n",
            "RangeIndex: 10000 entries, 0 to 9999\n",
            "Data columns (total 6 columns):\n",
            " #   Column                            Non-Null Count  Dtype  \n",
            "---  ------                            --------------  -----  \n",
            " 0   Hours Studied                     10000 non-null  int64  \n",
            " 1   Previous Scores                   10000 non-null  int64  \n",
            " 2   Extracurricular Activities        10000 non-null  object \n",
            " 3   Sleep Hours                       10000 non-null  int64  \n",
            " 4   Sample Question Papers Practiced  10000 non-null  int64  \n",
            " 5   Performance Index                 10000 non-null  float64\n",
            "dtypes: float64(1), int64(4), object(1)\n",
            "memory usage: 468.9+ KB\n",
            "None\n"
          ]
        }
      ]
    },
    {
      "cell_type": "markdown",
      "source": [
        "We will need to convert `Extracurricular Activities` to a 1 or 0."
      ],
      "metadata": {
        "id": "_gzieySGsGdG"
      }
    },
    {
      "cell_type": "code",
      "source": [
        "print(df.describe())"
      ],
      "metadata": {
        "colab": {
          "base_uri": "https://localhost:8080/"
        },
        "id": "N2DjEt_IhsqR",
        "outputId": "fbc09b18-7b96-4b7a-e0c5-5024ae7a63f4"
      },
      "execution_count": 44,
      "outputs": [
        {
          "output_type": "stream",
          "name": "stdout",
          "text": [
            "       Hours Studied  Previous Scores   Sleep Hours  \\\n",
            "count   10000.000000     10000.000000  10000.000000   \n",
            "mean        4.992900        69.445700      6.530600   \n",
            "std         2.589309        17.343152      1.695863   \n",
            "min         1.000000        40.000000      4.000000   \n",
            "25%         3.000000        54.000000      5.000000   \n",
            "50%         5.000000        69.000000      7.000000   \n",
            "75%         7.000000        85.000000      8.000000   \n",
            "max         9.000000        99.000000      9.000000   \n",
            "\n",
            "       Sample Question Papers Practiced  Performance Index  \n",
            "count                      10000.000000       10000.000000  \n",
            "mean                           4.583300          55.224800  \n",
            "std                            2.867348          19.212558  \n",
            "min                            0.000000          10.000000  \n",
            "25%                            2.000000          40.000000  \n",
            "50%                            5.000000          55.000000  \n",
            "75%                            7.000000          71.000000  \n",
            "max                            9.000000         100.000000  \n"
          ]
        }
      ]
    },
    {
      "cell_type": "code",
      "source": [
        "plt.hist(df['Performance Index'])\n",
        "plt.xlabel(\"Performance Index\")\n",
        "plt.ylabel(\"Count\")\n",
        "plt.show()"
      ],
      "metadata": {
        "colab": {
          "base_uri": "https://localhost:8080/",
          "height": 449
        },
        "id": "oYAa6Nf2ih06",
        "outputId": "adb74385-5bb9-461b-9bb0-a9737583319a"
      },
      "execution_count": 45,
      "outputs": [
        {
          "output_type": "display_data",
          "data": {
            "text/plain": [
              "<Figure size 640x480 with 1 Axes>"
            ],
            "image/png": "[encoded data removed]"
          },
          "metadata": {}
        }
      ]
    },
    {
      "cell_type": "markdown",
      "source": [
        "### Split the data into training and testing"
      ],
      "metadata": {
        "id": "yQkFoy3klEAA"
      }
    },
    {
      "cell_type": "code",
      "source": [
        "# let's do binary encoding on Extracurricular Activities\n",
        "df['Extracurricular Activities'] = df['Extracurricular Activities'].replace({ 'Yes': 1, 'No': 0})\n",
        "\n",
        "X = df.drop('Performance Index', axis=1).to_numpy()\n",
        "y = df['Performance Index'].to_numpy()\n",
        "\n",
        "X_train, X_test, y_train, y_test = train_test_split(X, y, test_size=0.25, random_state=808)\n",
        "\n",
        "X.shape[0], X_train.shape[0]"
      ],
      "metadata": {
        "colab": {
          "base_uri": "https://localhost:8080/"
        },
        "id": "aD5C2cjOlHs9",
        "outputId": "99c98251-0c96-40fb-eede-cbfc4ef7afff"
      },
      "execution_count": 58,
      "outputs": [
        {
          "output_type": "execute_result",
          "data": {
            "text/plain": [
              "(10000, 7500)"
            ]
          },
          "metadata": {},
          "execution_count": 58
        }
      ]
    },
    {
      "cell_type": "markdown",
      "source": [
        "## Implementing gradient descent"
      ],
      "metadata": {
        "id": "u54xQFB9mAKd"
      }
    },
    {
      "cell_type": "code",
      "source": [
        "def gradient_descent(X, y, w_in, b_in, alpha, num_iters):\n",
        "    m = X.shape[0]\n",
        "    w = w_in\n",
        "    b = b_in\n",
        "    cost_history = []\n",
        "\n",
        "    for i in range(num_iters):\n",
        "        predictions = np.dot(X, w) + b\n",
        "\n",
        "        error = predictions - y\n",
        "\n",
        "        dj_dw = (1/m) * np.dot(X.T, error)\n",
        "        dj_db = (1/m) * np.sum(error)\n",
        "\n",
        "        w = w - alpha * dj_dw\n",
        "        b = b - alpha * dj_db\n",
        "\n",
        "        cost = np.mean(error**2) / 2 # Mean squared error cost\n",
        "        cost_history.append(cost)\n",
        "\n",
        "    return w, b, cost_history"
      ],
      "metadata": {
        "id": "GTaifIcxl-_W"
      },
      "execution_count": 62,
      "outputs": []
    },
    {
      "cell_type": "code",
      "source": [
        "w_init = np.zeros(X_train.shape[1])\n",
        "b_init = 0\n",
        "learning_rate = 0.0003\n",
        "iterations = 1000\n",
        "\n",
        "w_final, b_final, history = gradient_descent(X_train, y_train, w_init, b_init, learning_rate, iterations)\n",
        "\n",
        "print(f\"Final w: {w_final}\")\n",
        "print(f\"Final b: {b_final}\")"
      ],
      "metadata": {
        "colab": {
          "base_uri": "https://localhost:8080/"
        },
        "id": "bMIRNLJNnNuO",
        "outputId": "1685aed6-3f34-4584-801a-76f7b1c6a997"
      },
      "execution_count": 79,
      "outputs": [
        {
          "output_type": "stream",
          "name": "stdout",
          "text": [
            "Final w: [ 1.83942107  0.79426232 -0.09488014 -1.00170248 -0.27491928]\n",
            "Final b: -0.2913845718006765\n"
          ]
        }
      ]
    },
    {
      "cell_type": "code",
      "source": [
        "from sklearn.metrics import mean_squared_error\n",
        "\n",
        "# making predictions on the test data\n",
        "predictions_test = np.dot(X_test, w_final) + b_final\n",
        "\n",
        "# calculating RMSE\n",
        "rmse_test = np.sqrt(mean_squared_error(y_test, predictions_test))\n",
        "print(f\"\\nRMSE on Test Set: {rmse_test:.4f}\")\n",
        "\n",
        "# cost history\n",
        "plt.figure() # Create a new figure\n",
        "plt.plot(history)\n",
        "plt.title(\"Cost Function vs. Iteration\")\n",
        "plt.xlabel(\"Iteration\")\n",
        "plt.ylabel(\"Cost\")\n",
        "plt.show()"
      ],
      "metadata": {
        "colab": {
          "base_uri": "https://localhost:8080/",
          "height": 508
        },
        "id": "F89SdOsTwpNN",
        "outputId": "dd7cf65c-4147-4196-9a0b-61053179ba04"
      },
      "execution_count": 80,
      "outputs": [
        {
          "output_type": "stream",
          "name": "stdout",
          "text": [
            "\n",
            "RMSE on Test Set: 5.8526\n"
          ]
        },
        {
          "output_type": "display_data",
          "data": {
            "text/plain": [
              "<Figure size 640x480 with 1 Axes>"
            ],
            "image/png": "[encoded data removed]"
          },
          "metadata": {}
        }
      ]
    }
  ]
}